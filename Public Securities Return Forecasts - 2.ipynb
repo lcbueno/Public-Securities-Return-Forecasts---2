{
 "cells": [
  {
   "cell_type": "code",
   "execution_count": 1,
   "id": "b10455b4",
   "metadata": {},
   "outputs": [],
   "source": [
    "from os import getcwd\n",
    "from math import sqrt\n",
    "from csv import reader, writer"
   ]
  },
  {
   "cell_type": "code",
   "execution_count": 2,
   "id": "5187ec1b",
   "metadata": {},
   "outputs": [],
   "source": [
    "path = getcwd()"
   ]
  },
  {
   "cell_type": "code",
   "execution_count": 3,
   "id": "38bc9d20",
   "metadata": {},
   "outputs": [],
   "source": [
    "def mean(values):\n",
    "\treturn sum(values) / float(len(values))\n",
    "def covariance(x, mean_x, y, mean_y):\n",
    "\tcovar = 0.0\n",
    "\tfor i in range(len(x)):\n",
    "\t\tcovar += (x[i] - mean_x) * (y[i] - mean_y)\n",
    "\treturn covar"
   ]
  },
  {
   "cell_type": "code",
   "execution_count": 4,
   "id": "02218560",
   "metadata": {},
   "outputs": [],
   "source": [
    "def variance(list, mean):\n",
    "\treturn sum([(x - mean)**2 for x in list])"
   ]
  },
  {
   "cell_type": "code",
   "execution_count": 5,
   "id": "0a7d8065",
   "metadata": {},
   "outputs": [],
   "source": [
    "def coefficient(covar, var, mean_x, mean_y):\n",
    "\tb1 = covar / var\n",
    "\tb0 = mean_y - (b1 * mean_x)\n",
    "\treturn b1, b0\n"
   ]
  },
  {
   "cell_type": "code",
   "execution_count": 6,
   "id": "17151b8e",
   "metadata": {},
   "outputs": [],
   "source": [
    "def carrega_dados(dataset):\n",
    "\tinit = 0\n",
    "\tx = list()\n",
    "\ty = list()\n",
    "\twith open(dataset) as file:\n",
    "\t\tcontent = reader(file)\n",
    "\t\tfor row in content:\n",
    "\t\t\tif init == 0:\n",
    "\t\t\t\tinit = 1\n",
    "\t\t\telse:\n",
    "\t\t\t\tx.append(row[0])\n",
    "\t\t\t\ty.append(row[1])\n",
    "\treturn x, y"
   ]
  },
  {
   "cell_type": "code",
   "execution_count": 7,
   "id": "6fc88f0c",
   "metadata": {},
   "outputs": [],
   "source": [
    "def split_dataset(x, y):\n",
    "\n",
    "\tx_treino = list()\n",
    "\ty_treino = list()\n",
    "\tx_teste = list()\n",
    "\ty_teste = list()\n",
    "\n",
    "\ttraining_size = int(.8 * len(x))\n",
    "\n",
    "\tx_treino, x_teste = x[0:training_size], x[training_size::]\n",
    "\ty_treino, y_teste = y[0:training_size], y[training_size::]\n",
    "\n",
    "\treturn x_treino, y_treino, x_teste, y_teste"
   ]
  },
  {
   "cell_type": "code",
   "execution_count": 8,
   "id": "c2e93ee7",
   "metadata": {},
   "outputs": [],
   "source": [
    "def predict(b0, b1, teste_x):\n",
    "\tpredicted_y = list()\n",
    "\tfor i in teste_x:\n",
    "\t\tpredicted_y.append(b0 + b1 * i)\n",
    "\treturn predicted_y"
   ]
  },
  {
   "cell_type": "code",
   "execution_count": 9,
   "id": "598dd6f6",
   "metadata": {},
   "outputs": [],
   "source": [
    "def rmse(predicted_y, test_y):\n",
    "\terror = 0.0\n",
    "\tfor i in range(len(predicted_y)):\n",
    "\t\tsum_error = (predicted_y[i] - test_y[i]) ** 2\n",
    "\treturn sqrt(sum_error / float(len(test_y)))\n"
   ]
  },
  {
   "cell_type": "code",
   "execution_count": 10,
   "id": "b4a08dbf",
   "metadata": {},
   "outputs": [],
   "source": [
    "def main():\n",
    "\ttry:\n",
    "\n",
    "\t\tdataset = path + \"/dados/dataset.csv\"\n",
    "\t\tx, y = carrega_dados(dataset)\n",
    "\n",
    "\t\tx = [float(i) for i in x]\n",
    "\t\ty = [float(i) for i in y]\t\n",
    "\n",
    "\t\tmean_x = mean(x)\n",
    "\t\tmean_y = mean(y)\n",
    "\t\tcovar = covariance(x, mean_x, y, mean_y)\n",
    "\t\tvar = variance(x, mean_x)\n",
    "\n",
    "\t\tx_treino, y_treino, x_teste, y_teste = split_dataset(x, y)\t\t\t\n",
    "\n",
    "\t\tb1, b0 = coefficient(covar, var, mean_x, mean_y)\n",
    "\n",
    "\t\tprint(\"\\nCoeficientes\")\n",
    "\t\tprint('B1:', b1)\n",
    "\t\tprint('B0:', b0)\n",
    "\n",
    "\t\tpredicted_y = predict(b0, b1, x_teste)\n",
    "\n",
    "\t\troot_mean = rmse(predicted_y, y_teste)\n",
    "\n",
    "\t\tprint(\"\\nModelo de Regressão Linear Sem o Uso de Framework\")\n",
    "\t\tprint(\"Erro Médio do Modelo: {}\\n\".format(root_mean))\n",
    "\n",
    "\t\t# Novos dados\n",
    "\t\tnovo_x = int(input(\"Digite o Valor do Investimento: \"))\n",
    "\n",
    "\t\tnovo_y = b0 + b1 * novo_x\n",
    "\t\tprint(\"\\nRetorno Previsto: {}\".format(novo_y))\n",
    "\t\tprint(\"\\n\")\n",
    "\t\t\n",
    "\texcept Exception as a:\n",
    "\t\tprint(a)\n"
   ]
  },
  {
   "cell_type": "code",
   "execution_count": 11,
   "id": "f978d3e5",
   "metadata": {},
   "outputs": [
    {
     "name": "stdout",
     "output_type": "stream",
     "text": [
      "\n",
      "Coeficientes\n",
      "B1: 3.4326761292716266\n",
      "B0: -106.027706448781\n",
      "\n",
      "Modelo de Regressão Linear Sem o Uso de Framework\n",
      "Erro Médio do Modelo: 1.763134616605216\n",
      "\n",
      "Digite o Valor do Investimento: 1000\n",
      "\n",
      "Retorno Previsto: 3326.6484228228455\n",
      "\n",
      "\n"
     ]
    }
   ],
   "source": [
    "main()"
   ]
  }
 ],
 "metadata": {
  "kernelspec": {
   "display_name": "Python 3 (ipykernel)",
   "language": "python",
   "name": "python3"
  },
  "language_info": {
   "codemirror_mode": {
    "name": "ipython",
    "version": 3
   },
   "file_extension": ".py",
   "mimetype": "text/x-python",
   "name": "python",
   "nbconvert_exporter": "python",
   "pygments_lexer": "ipython3",
   "version": "3.9.10"
  }
 },
 "nbformat": 4,
 "nbformat_minor": 5
}
